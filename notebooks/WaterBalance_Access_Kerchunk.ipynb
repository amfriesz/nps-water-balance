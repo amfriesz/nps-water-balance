{
 "cells": [
  {
   "cell_type": "code",
   "execution_count": null,
   "id": "e811fa29-607c-44af-9b1a-32713a07b870",
   "metadata": {},
   "outputs": [],
   "source": [
    "import requests\n",
    "import rasterio\n",
    "import rioxarray\n",
    "import xarray as xr\n",
    "import cartopy.crs as ccrs\n",
    "from pyproj import CRS\n",
    "import ujson\n",
    "import s3fs\n",
    "import fsspec\n",
    "from tqdm import tqdm\n",
    "from glob import glob\n",
    "import os\n",
    "import pathlib\n",
    "import hvplot.xarray\n",
    "\n",
    "from kerchunk.hdf import SingleHdf5ToZarr\n",
    "from kerchunk.combine import MultiZarrToZarr\n",
    "\n",
    "# The xarray produced from the reference file throws a SerializationWarning for each variable. Will need to explore why\n",
    "import warnings\n",
    "warnings.simplefilter(\"ignore\")"
   ]
  },
  {
   "cell_type": "code",
   "execution_count": null,
   "id": "4c6a346d-7832-46b3-9eaa-171de47233bf",
   "metadata": {},
   "outputs": [],
   "source": [
    "import dask\n",
    "from dask.distributed import Client\n",
    "client = Client(n_workers=4)\n",
    "client"
   ]
  },
  {
   "cell_type": "code",
   "execution_count": null,
   "id": "e5d92ff3-397b-46c2-9ce1-c2ab0cd8e4be",
   "metadata": {},
   "outputs": [],
   "source": [
    "bucket = 's3://npwbanalres'"
   ]
  },
  {
   "cell_type": "code",
   "execution_count": null,
   "id": "58f7c49c-bcac-433d-b7ba-f04a46cdf42c",
   "metadata": {},
   "outputs": [],
   "source": [
    "s3 = s3fs.S3FileSystem(anon=False)"
   ]
  },
  {
   "cell_type": "code",
   "execution_count": null,
   "id": "9d20fe63-0dc7-4270-9618-aa03356dce71",
   "metadata": {
    "tags": []
   },
   "outputs": [],
   "source": [
    "#s3.ls(bucket)\n",
    "s3.glob(f'{bucket}/*.nc4')"
   ]
  },
  {
   "cell_type": "code",
   "execution_count": null,
   "id": "3ead588b-ca68-4713-992b-d227996ab830",
   "metadata": {},
   "outputs": [],
   "source": [
    "rain_urls = s3.glob(f'{bucket}/*rain.nc4')"
   ]
  },
  {
   "cell_type": "code",
   "execution_count": null,
   "id": "e077dca2-8aff-48fe-a446-7b6043416e92",
   "metadata": {},
   "outputs": [],
   "source": [
    "url = rain_urls[1]\n",
    "url"
   ]
  },
  {
   "cell_type": "code",
   "execution_count": null,
   "id": "b83fac91-2194-4a2f-937c-7b032b69e5b5",
   "metadata": {},
   "outputs": [],
   "source": [
    "s3_file_obj = s3.open(url, mode='rb')"
   ]
  },
  {
   "cell_type": "code",
   "execution_count": null,
   "id": "17220ebf-4931-498d-aeb8-2e6f468d0990",
   "metadata": {},
   "outputs": [],
   "source": [
    "xr_ds = xr.open_dataset(s3_file_obj, chunks='auto', engine='h5netcdf')"
   ]
  },
  {
   "cell_type": "code",
   "execution_count": null,
   "id": "93ab3158-e813-4853-a14e-4485ea456be3",
   "metadata": {},
   "outputs": [],
   "source": [
    "xr_ds"
   ]
  },
  {
   "cell_type": "code",
   "execution_count": null,
   "id": "c58004d7-3bef-4468-b03a-de3846212279",
   "metadata": {},
   "outputs": [],
   "source": [
    "xr_ds.rain[0].where(xr_ds.rain[0] > 0, drop=True).plot()"
   ]
  },
  {
   "cell_type": "code",
   "execution_count": null,
   "id": "84ab9555-1db9-46d0-b80f-9daf79c72757",
   "metadata": {},
   "outputs": [],
   "source": [
    "xr_ds.lambert_conformal_conic.attrs"
   ]
  },
  {
   "cell_type": "code",
   "execution_count": null,
   "id": "13da8519-47d3-4c56-a425-529b29b08884",
   "metadata": {},
   "outputs": [],
   "source": [
    "crs = CRS.from_cf(xr_ds.lambert_conformal_conic.attrs)"
   ]
  },
  {
   "cell_type": "code",
   "execution_count": null,
   "id": "81f988ef-ad54-4b03-9d13-45aa3e7ec606",
   "metadata": {},
   "outputs": [],
   "source": [
    "crs.to_dict()"
   ]
  },
  {
   "cell_type": "code",
   "execution_count": null,
   "id": "b6a19860-7890-4917-9450-7101ce16203e",
   "metadata": {},
   "outputs": [],
   "source": [
    "#xr_ds.rain[0].where(xr_ds.rain[0] > 0, drop=True).hvplot.image(x='x', y='y', crs=crs, tiles=\"ESRI\", clim=(0,10))"
   ]
  },
  {
   "cell_type": "code",
   "execution_count": null,
   "id": "24eeb89e-be8a-49c3-bdc9-129eaf041e3f",
   "metadata": {},
   "outputs": [],
   "source": [
    "xr_ds.rain[0].where(xr_ds.rain[0] > 0, drop=True).hvplot.image(x='x', y='y', clim=(0,10))"
   ]
  },
  {
   "cell_type": "code",
   "execution_count": null,
   "id": "129ca26d-4fe4-478a-9cff-f7ca2f2a5960",
   "metadata": {},
   "outputs": [],
   "source": [
    "url2 = rain_urls[2]\n",
    "url2"
   ]
  },
  {
   "cell_type": "code",
   "execution_count": null,
   "id": "f5de79f8-94b8-4910-a439-5e3efaf31d8e",
   "metadata": {},
   "outputs": [],
   "source": [
    "s3_file_obj_2 = s3.open(url2, mode='rb')"
   ]
  },
  {
   "cell_type": "code",
   "execution_count": null,
   "id": "6c8b00c6-acd1-4e89-88be-24a8d94f9036",
   "metadata": {},
   "outputs": [],
   "source": [
    "xr_ds_2 = xr.open_dataset(s3_file_obj_2, chunks='auto', engine='h5netcdf')"
   ]
  },
  {
   "cell_type": "code",
   "execution_count": null,
   "id": "c5b7257e-c24c-47aa-af79-b45639fb09cc",
   "metadata": {},
   "outputs": [],
   "source": [
    "xr_ds_2.rain"
   ]
  },
  {
   "cell_type": "code",
   "execution_count": null,
   "id": "33844609-2a3c-402b-b989-08aad150543f",
   "metadata": {},
   "outputs": [],
   "source": [
    "xr.concat([xr_ds, xr_ds_2], 'time')"
   ]
  },
  {
   "cell_type": "code",
   "execution_count": null,
   "id": "3e6a1f5d-2ef0-4682-a730-e467af428158",
   "metadata": {},
   "outputs": [],
   "source": [
    "def gen_json(u):\n",
    "    so = dict(\n",
    "        mode= \"rb\", \n",
    "        anon= False, \n",
    "        default_fill_cache= False,\n",
    "        default_cache_type= \"none\"\n",
    "    )\n",
    "    with s3.open(u, **so) as infile:\n",
    "        h5chunks = SingleHdf5ToZarr(infile, u, inline_threshold=300)\n",
    "        with open(f\"jsons/{u.split('/')[-1]}.json\", 'wb') as outf:\n",
    "            outf.write(ujson.dumps(h5chunks.translate()).encode())"
   ]
  },
  {
   "cell_type": "code",
   "execution_count": null,
   "id": "2d8c7eb3-3c3f-4978-b05d-28ff927b2348",
   "metadata": {},
   "outputs": [],
   "source": [
    "pathlib.Path('./jsons/').mkdir(exist_ok=True)"
   ]
  },
  {
   "cell_type": "code",
   "execution_count": null,
   "id": "aa3e8105-e1b2-4dd1-8834-3c0d33bc0a6e",
   "metadata": {},
   "outputs": [],
   "source": [
    "reference_files = []\n",
    "for url in rain_urls:\n",
    "    ref = dask.delayed(gen_json)(url)\n",
    "    reference_files.append(ref)\n",
    "\n",
    "reference_files_compute = dask.compute(*reference_files)"
   ]
  },
  {
   "cell_type": "code",
   "execution_count": null,
   "id": "97514be2-b6e1-4598-ac17-df6b3d995cdc",
   "metadata": {},
   "outputs": [],
   "source": [
    "reference_list = sorted(glob('./jsons/*.json'))\n",
    "reference_list"
   ]
  },
  {
   "cell_type": "code",
   "execution_count": null,
   "id": "4f2fa1ca-8214-4375-be49-6db1ddde8a5b",
   "metadata": {},
   "outputs": [],
   "source": [
    "with open(reference_list[0]) as j:\n",
    "    reference = ujson.load(j)"
   ]
  },
  {
   "cell_type": "code",
   "execution_count": null,
   "id": "d5f06a99-5232-4a05-bc2c-657ee738cf6f",
   "metadata": {},
   "outputs": [],
   "source": [
    "s_opts = {'skip_instance_cache':True}   #json\n",
    "r_opts = {'anon':False}"
   ]
  },
  {
   "cell_type": "code",
   "execution_count": null,
   "id": "89273484-327a-4e72-ba1a-7b3711fdf853",
   "metadata": {},
   "outputs": [],
   "source": [
    "fs_single = fsspec.filesystem(\"reference\",\n",
    "                              fo=reference,\n",
    "                              ref_storage_args=s_opts,\n",
    "                              remote_protocol='s3', \n",
    "                              remote_options=r_opts)"
   ]
  },
  {
   "cell_type": "code",
   "execution_count": null,
   "id": "bc1708ea-d9af-4ee6-a2e4-0ecf9e51cc27",
   "metadata": {},
   "outputs": [],
   "source": [
    "m = fs_single.get_mapper(\"\")\n",
    "ds_single = xr.open_dataset(m, engine=\"zarr\", backend_kwargs={'consolidated':False}, chunks={})\n",
    "ds_single"
   ]
  },
  {
   "cell_type": "code",
   "execution_count": null,
   "id": "266f960c-d900-4d51-b8b2-d9b4f84999e7",
   "metadata": {},
   "outputs": [],
   "source": []
  },
  {
   "cell_type": "code",
   "execution_count": null,
   "id": "5a5d0f92-5799-4542-afef-e957d7d960cd",
   "metadata": {},
   "outputs": [],
   "source": [
    "ds_k =[]\n",
    "for ref in reference_list:\n",
    "    s_opts = s_opts\n",
    "    r_opts = r_opts\n",
    "    fs = fsspec.filesystem(\"reference\",\n",
    "                           fo=ref,\n",
    "                           ref_storage_args=s_opts,\n",
    "                           remote_protocol='s3',\n",
    "                           remote_options=r_opts)\n",
    "    m = fs.get_mapper(\"\")\n",
    "    ds_k.append(xr.open_dataset(m, engine=\"zarr\", backend_kwargs={'consolidated':False}, chunks={}))\n",
    "    \n",
    "ds_multi = xr.concat(ds_k, dim='time')\n",
    "    \n",
    "ds_multi"
   ]
  },
  {
   "cell_type": "code",
   "execution_count": null,
   "id": "b49fbdd0-3364-4174-ace2-4f42d13d4d0c",
   "metadata": {},
   "outputs": [],
   "source": [
    "t_slice = ds_multi.sel(time=slice('2001-12-01', '2002-03-01'))\n",
    "t_slice"
   ]
  },
  {
   "cell_type": "code",
   "execution_count": null,
   "id": "f5fa1ca7-ae7a-45bf-a0d1-098375419ce0",
   "metadata": {},
   "outputs": [],
   "source": []
  }
 ],
 "metadata": {
  "kernelspec": {
   "display_name": "Python 3 (ipykernel)",
   "language": "python",
   "name": "python3"
  },
  "language_info": {
   "codemirror_mode": {
    "name": "ipython",
    "version": 3
   },
   "file_extension": ".py",
   "mimetype": "text/x-python",
   "name": "python",
   "nbconvert_exporter": "python",
   "pygments_lexer": "ipython3",
   "version": "3.9.15"
  }
 },
 "nbformat": 4,
 "nbformat_minor": 5
}
