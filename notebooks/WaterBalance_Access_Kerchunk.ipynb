{
 "cells": [
  {
   "cell_type": "code",
   "execution_count": null,
   "id": "e811fa29-607c-44af-9b1a-32713a07b870",
   "metadata": {},
   "outputs": [],
   "source": [
    "import xarray as xr\n",
    "import dask\n",
    "import ujson\n",
    "import s3fs\n",
    "import fsspec\n",
    "from glob import glob\n",
    "import pathlib\n",
    "import hvplot.xarray\n",
    "\n",
    "from kerchunk.hdf import SingleHdf5ToZarr\n",
    "from kerchunk.combine import MultiZarrToZarr\n",
    "\n",
    "# The xarray produced from the reference file throws a SerializationWarning for each variable. Will need to explore why\n",
    "import warnings\n",
    "warnings.simplefilter(\"ignore\")"
   ]
  },
  {
   "cell_type": "markdown",
   "id": "c229261c-e589-44a2-93a8-11907b9580c1",
   "metadata": {},
   "source": [
    "## Start up a Dask Client to monitor Dask processing"
   ]
  },
  {
   "cell_type": "code",
   "execution_count": null,
   "id": "4c6a346d-7832-46b3-9eaa-171de47233bf",
   "metadata": {},
   "outputs": [],
   "source": [
    "from dask.distributed import Client\n",
    "client = Client(n_workers=4)\n",
    "client"
   ]
  },
  {
   "cell_type": "markdown",
   "id": "dbb547ed-e9a3-4d0a-ac6f-475bd03faf37",
   "metadata": {},
   "source": [
    "## Identify the S3 bucket"
   ]
  },
  {
   "cell_type": "code",
   "execution_count": null,
   "id": "e5d92ff3-397b-46c2-9ce1-c2ab0cd8e4be",
   "metadata": {},
   "outputs": [],
   "source": [
    "bucket = 's3://npwbanalres'"
   ]
  },
  {
   "cell_type": "markdown",
   "id": "a00785c9-c97b-491a-88d7-cbcd0a3013fd",
   "metadata": {},
   "source": [
    "## Connect to the S3 bucket and list files it contains"
   ]
  },
  {
   "cell_type": "code",
   "execution_count": null,
   "id": "58f7c49c-bcac-433d-b7ba-f04a46cdf42c",
   "metadata": {},
   "outputs": [],
   "source": [
    "s3 = s3fs.S3FileSystem(anon=False)"
   ]
  },
  {
   "cell_type": "code",
   "execution_count": null,
   "id": "9d20fe63-0dc7-4270-9618-aa03356dce71",
   "metadata": {
    "tags": []
   },
   "outputs": [],
   "source": [
    "#s3.ls(bucket)\n",
    "reference_list = s3.glob(f'{bucket}/*.nc4.json')\n",
    "reference_list"
   ]
  },
  {
   "cell_type": "markdown",
   "id": "d0070b54-c01e-4f68-88a9-794fe437295c",
   "metadata": {},
   "source": [
    "**Use Dask to process multiple files in parallel**"
   ]
  },
  {
   "cell_type": "code",
   "execution_count": null,
   "id": "aa3e8105-e1b2-4dd1-8834-3c0d33bc0a6e",
   "metadata": {
    "tags": []
   },
   "outputs": [],
   "source": [
    "reference_files = []\n",
    "for url in rain_urls:\n",
    "    ref = dask.delayed(gen_json)(url)\n",
    "    reference_files.append(ref)\n",
    "\n",
    "reference_files_compute = dask.compute(*reference_files)"
   ]
  },
  {
   "cell_type": "markdown",
   "id": "767a89eb-c405-4533-80e2-1ffe00f1efa1",
   "metadata": {},
   "source": [
    "---"
   ]
  },
  {
   "cell_type": "markdown",
   "id": "785cd568-2bad-4041-9eba-39333115f0d2",
   "metadata": {},
   "source": [
    "## Working with Kurchunck files"
   ]
  },
  {
   "cell_type": "markdown",
   "id": "c6a4d14d-9d93-4722-a804-43e02a92da2e",
   "metadata": {
    "tags": []
   },
   "source": [
    "### Read a single Kurchunk file"
   ]
  },
  {
   "cell_type": "code",
   "execution_count": null,
   "id": "55a4c170-ede1-482b-9bce-775b0b5a939b",
   "metadata": {},
   "outputs": [],
   "source": [
    "reference_file = reference_list[0]\n",
    "reference_file"
   ]
  },
  {
   "cell_type": "code",
   "execution_count": null,
   "id": "d5f06a99-5232-4a05-bc2c-657ee738cf6f",
   "metadata": {},
   "outputs": [],
   "source": [
    "s_opts = {'skip_instance_cache':True}\n",
    "r_opts = {'anon':False}"
   ]
  },
  {
   "cell_type": "code",
   "execution_count": null,
   "id": "89273484-327a-4e72-ba1a-7b3711fdf853",
   "metadata": {},
   "outputs": [],
   "source": [
    "fs_single = fsspec.filesystem(\"reference\",\n",
    "                              fo=f's3://{reference_file}',\n",
    "                              ref_storage_args=s_opts,\n",
    "                              remote_protocol='s3', \n",
    "                              remote_options=r_opts)"
   ]
  },
  {
   "cell_type": "code",
   "execution_count": null,
   "id": "bc1708ea-d9af-4ee6-a2e4-0ecf9e51cc27",
   "metadata": {},
   "outputs": [],
   "source": [
    "%%time\n",
    "m = fs_single.get_mapper(\"\")\n",
    "ds_single = xr.open_dataset(m, engine=\"zarr\", backend_kwargs={'consolidated':False}, chunks={})\n",
    "ds_single"
   ]
  },
  {
   "cell_type": "markdown",
   "id": "e580984f-16b5-43ad-8fdd-e05e70402d34",
   "metadata": {},
   "source": [
    "### Read multiple Kurchunck files"
   ]
  },
  {
   "cell_type": "code",
   "execution_count": null,
   "id": "90c0ef03-b8e7-46a8-90dc-bcd93d267679",
   "metadata": {},
   "outputs": [],
   "source": [
    "rf_rain = [x for x in reference_list if 'rain.nc4.json' in x]\n",
    "rf_rain[:10]"
   ]
  },
  {
   "cell_type": "code",
   "execution_count": null,
   "id": "7f12a522-d9b5-4b6d-b9e3-a8af13abbb7d",
   "metadata": {},
   "outputs": [],
   "source": [
    "# def mapper(reference_file, s_opts, r_opts):\n",
    "#     fs = fsspec.filesystem(\"reference\",\n",
    "#                            fo=f's3://{reference_file}',\n",
    "#                            ref_storage_args=s_opts,\n",
    "#                            remote_protocol='s3',\n",
    "#                            remote_options=r_opts)\n",
    "#     m = fs.get_mapper(\"\")\n",
    "#     return m"
   ]
  },
  {
   "cell_type": "code",
   "execution_count": null,
   "id": "34d8386e-1ceb-40d8-9de4-71dffcb7a406",
   "metadata": {},
   "outputs": [],
   "source": [
    "# %%time\n",
    "# ds_k =[]\n",
    "# for ref in rf_rain:\n",
    "#     s_opts = s_opts\n",
    "#     r_opts = r_opts\n",
    "#     m = dask.delayed(mapper)(ref, s_opts, r_opts)\n",
    "#     ds_k.append(xr.open_dataset(m, engine=\"zarr\", backend_kwargs={'consolidated':False}, chunks={}))\n",
    "\n",
    "# ds_k_compute = dask.compute(*ds_k)"
   ]
  },
  {
   "cell_type": "code",
   "execution_count": null,
   "id": "5a5d0f92-5799-4542-afef-e957d7d960cd",
   "metadata": {},
   "outputs": [],
   "source": [
    "%%time\n",
    "ds_k =[]\n",
    "for ref in rf_rain:\n",
    "    s_opts = s_opts\n",
    "    r_opts = r_opts\n",
    "    fs = fsspec.filesystem(\"reference\",\n",
    "                           fo=f's3://{ref}',\n",
    "                           ref_storage_args=s_opts,\n",
    "                           remote_protocol='s3',\n",
    "                           remote_options=r_opts)\n",
    "    m = fs.get_mapper(\"\")\n",
    "    ds_k.append(xr.open_dataset(m, engine=\"zarr\", backend_kwargs={'consolidated':False}, chunks={}))"
   ]
  },
  {
   "cell_type": "code",
   "execution_count": null,
   "id": "c20dc6f9-545e-4c7d-b797-b4b5dd69dfed",
   "metadata": {},
   "outputs": [],
   "source": [
    "%%time\n",
    "ds_multi = xr.concat(ds_k, dim='time')\n",
    "ds_multi"
   ]
  },
  {
   "cell_type": "code",
   "execution_count": null,
   "id": "b49fbdd0-3364-4174-ace2-4f42d13d4d0c",
   "metadata": {},
   "outputs": [],
   "source": [
    "t_slice = ds_multi.sel(time=slice('2001-12-01', '2002-03-01'))\n",
    "t_slice"
   ]
  },
  {
   "cell_type": "code",
   "execution_count": null,
   "id": "f5fa1ca7-ae7a-45bf-a0d1-098375419ce0",
   "metadata": {},
   "outputs": [],
   "source": []
  }
 ],
 "metadata": {
  "kernelspec": {
   "display_name": "py39",
   "language": "python",
   "name": "py39"
  },
  "language_info": {
   "codemirror_mode": {
    "name": "ipython",
    "version": 3
   },
   "file_extension": ".py",
   "mimetype": "text/x-python",
   "name": "python",
   "nbconvert_exporter": "python",
   "pygments_lexer": "ipython3",
   "version": "3.9.15"
  }
 },
 "nbformat": 4,
 "nbformat_minor": 5
}
