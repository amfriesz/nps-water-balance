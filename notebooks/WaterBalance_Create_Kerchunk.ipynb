{
 "cells": [
  {
   "cell_type": "code",
   "execution_count": null,
   "id": "e811fa29-607c-44af-9b1a-32713a07b870",
   "metadata": {},
   "outputs": [],
   "source": [
    "import xarray as xr\n",
    "import dask\n",
    "import ujson\n",
    "import s3fs\n",
    "import fsspec\n",
    "from glob import glob\n",
    "import pathlib\n",
    "import hvplot.xarray\n",
    "\n",
    "from kerchunk.hdf import SingleHdf5ToZarr\n",
    "from kerchunk.combine import MultiZarrToZarr\n",
    "\n",
    "# The xarray produced from the reference file throws a SerializationWarning for each variable. Will need to explore why\n",
    "import warnings\n",
    "warnings.simplefilter(\"ignore\")"
   ]
  },
  {
   "cell_type": "markdown",
   "id": "c229261c-e589-44a2-93a8-11907b9580c1",
   "metadata": {},
   "source": [
    "## Start up a Dask Client to monitor Dask processing"
   ]
  },
  {
   "cell_type": "code",
   "execution_count": null,
   "id": "4c6a346d-7832-46b3-9eaa-171de47233bf",
   "metadata": {},
   "outputs": [],
   "source": [
    "from dask.distributed import Client\n",
    "client = Client(n_workers=4)\n",
    "client"
   ]
  },
  {
   "cell_type": "markdown",
   "id": "dbb547ed-e9a3-4d0a-ac6f-475bd03faf37",
   "metadata": {},
   "source": [
    "## Identify the S3 bucket"
   ]
  },
  {
   "cell_type": "code",
   "execution_count": null,
   "id": "e5d92ff3-397b-46c2-9ce1-c2ab0cd8e4be",
   "metadata": {},
   "outputs": [],
   "source": [
    "bucket = 's3://npwbanalres'"
   ]
  },
  {
   "cell_type": "markdown",
   "id": "a00785c9-c97b-491a-88d7-cbcd0a3013fd",
   "metadata": {},
   "source": [
    "## Connect to the S3 bucket and list files it contains"
   ]
  },
  {
   "cell_type": "code",
   "execution_count": null,
   "id": "58f7c49c-bcac-433d-b7ba-f04a46cdf42c",
   "metadata": {},
   "outputs": [],
   "source": [
    "s3 = s3fs.S3FileSystem(anon=False)"
   ]
  },
  {
   "cell_type": "code",
   "execution_count": null,
   "id": "9d20fe63-0dc7-4270-9618-aa03356dce71",
   "metadata": {
    "tags": []
   },
   "outputs": [],
   "source": [
    "#s3.ls(bucket)\n",
    "urls_all = s3.glob(f'{bucket}/*.nc4')\n",
    "urls_all"
   ]
  },
  {
   "cell_type": "code",
   "execution_count": null,
   "id": "3ead588b-ca68-4713-992b-d227996ab830",
   "metadata": {},
   "outputs": [],
   "source": [
    "rain_urls = s3.glob(f'{bucket}/*rain.nc4')"
   ]
  },
  {
   "cell_type": "markdown",
   "id": "77b25e75-8a29-49af-9a80-545a3701339b",
   "metadata": {},
   "source": [
    "## Create Kerchunk file for each data asset/.nc4 file"
   ]
  },
  {
   "cell_type": "code",
   "execution_count": null,
   "id": "3e6a1f5d-2ef0-4682-a730-e467af428158",
   "metadata": {},
   "outputs": [],
   "source": [
    "def gen_json(u):\n",
    "    so = dict(\n",
    "        mode= \"rb\", \n",
    "        anon= False, \n",
    "        default_fill_cache= False,\n",
    "        default_cache_type= \"none\"\n",
    "    )\n",
    "    with s3.open(u, **so) as infile:\n",
    "        h5chunks = SingleHdf5ToZarr(infile, u, inline_threshold=300)\n",
    "        with open(f\"jsons/{u.split('/')[-1]}.json\", 'wb') as outf:\n",
    "            outf.write(ujson.dumps(h5chunks.translate()).encode())"
   ]
  },
  {
   "cell_type": "markdown",
   "id": "c446d3f6-f067-481d-9ed9-f0e0dbae1005",
   "metadata": {},
   "source": [
    "**Create a json directory to write Kurchunk files to**"
   ]
  },
  {
   "cell_type": "code",
   "execution_count": null,
   "id": "2d8c7eb3-3c3f-4978-b05d-28ff927b2348",
   "metadata": {},
   "outputs": [],
   "source": [
    "pathlib.Path('./jsons/').mkdir(exist_ok=True)"
   ]
  },
  {
   "cell_type": "markdown",
   "id": "d0070b54-c01e-4f68-88a9-794fe437295c",
   "metadata": {},
   "source": [
    "**Use Dask to process multiple files in parallel**"
   ]
  },
  {
   "cell_type": "code",
   "execution_count": null,
   "id": "aa3e8105-e1b2-4dd1-8834-3c0d33bc0a6e",
   "metadata": {},
   "outputs": [],
   "source": [
    "reference_files = []\n",
    "for url in rain_urls:\n",
    "    ref = dask.delayed(gen_json)(url)\n",
    "    reference_files.append(ref)\n",
    "\n",
    "reference_files_compute = dask.compute(*reference_files)"
   ]
  },
  {
   "cell_type": "markdown",
   "id": "df408e00-3cd9-422f-9df3-9ec91847a1bb",
   "metadata": {},
   "source": [
    "**List kerchunk/json files**"
   ]
  },
  {
   "cell_type": "code",
   "execution_count": null,
   "id": "97514be2-b6e1-4598-ac17-df6b3d995cdc",
   "metadata": {},
   "outputs": [],
   "source": [
    "reference_list = sorted(glob('./jsons/*.json'))"
   ]
  },
  {
   "cell_type": "markdown",
   "id": "767a89eb-c405-4533-80e2-1ffe00f1efa1",
   "metadata": {},
   "source": [
    "---"
   ]
  },
  {
   "cell_type": "markdown",
   "id": "785cd568-2bad-4041-9eba-39333115f0d2",
   "metadata": {},
   "source": [
    "## Working with Kurchunck files"
   ]
  },
  {
   "cell_type": "markdown",
   "id": "c6a4d14d-9d93-4722-a804-43e02a92da2e",
   "metadata": {},
   "source": [
    "### Read a single Kurchunk file"
   ]
  },
  {
   "cell_type": "code",
   "execution_count": null,
   "id": "4f2fa1ca-8214-4375-be49-6db1ddde8a5b",
   "metadata": {},
   "outputs": [],
   "source": [
    "with open(reference_list[0]) as j:\n",
    "    reference = ujson.load(j)"
   ]
  },
  {
   "cell_type": "code",
   "execution_count": null,
   "id": "d5f06a99-5232-4a05-bc2c-657ee738cf6f",
   "metadata": {},
   "outputs": [],
   "source": [
    "s_opts = {'skip_instance_cache':True}\n",
    "r_opts = {'anon':False}"
   ]
  },
  {
   "cell_type": "code",
   "execution_count": null,
   "id": "89273484-327a-4e72-ba1a-7b3711fdf853",
   "metadata": {},
   "outputs": [],
   "source": [
    "fs_single = fsspec.filesystem(\"reference\",\n",
    "                              fo=reference,\n",
    "                              ref_storage_args=s_opts,\n",
    "                              remote_protocol='s3', \n",
    "                              remote_options=r_opts)"
   ]
  },
  {
   "cell_type": "code",
   "execution_count": null,
   "id": "bc1708ea-d9af-4ee6-a2e4-0ecf9e51cc27",
   "metadata": {},
   "outputs": [],
   "source": [
    "%%time\n",
    "m = fs_single.get_mapper(\"\")\n",
    "ds_single = xr.open_dataset(m, engine=\"zarr\", backend_kwargs={'consolidated':False}, chunks={})\n",
    "ds_single"
   ]
  },
  {
   "cell_type": "markdown",
   "id": "e580984f-16b5-43ad-8fdd-e05e70402d34",
   "metadata": {},
   "source": [
    "### Read multiple Kurchunck files"
   ]
  },
  {
   "cell_type": "code",
   "execution_count": null,
   "id": "90c0ef03-b8e7-46a8-90dc-bcd93d267679",
   "metadata": {},
   "outputs": [],
   "source": [
    "rain_urls = [x for x in reference_list if 'rain.nc4' in x]\n",
    "rain_urls"
   ]
  },
  {
   "cell_type": "code",
   "execution_count": null,
   "id": "5a5d0f92-5799-4542-afef-e957d7d960cd",
   "metadata": {},
   "outputs": [],
   "source": [
    "%%time\n",
    "ds_k =[]\n",
    "for ref in rain_urls:\n",
    "    s_opts = s_opts\n",
    "    r_opts = r_opts\n",
    "    fs = fsspec.filesystem(\"reference\",\n",
    "                           fo=ref,\n",
    "                           ref_storage_args=s_opts,\n",
    "                           remote_protocol='s3',\n",
    "                           remote_options=r_opts)\n",
    "    m = fs.get_mapper(\"\")\n",
    "    ds_k.append(xr.open_dataset(m, engine=\"zarr\", backend_kwargs={'consolidated':False}, chunks={}))"
   ]
  },
  {
   "cell_type": "code",
   "execution_count": null,
   "id": "c20dc6f9-545e-4c7d-b797-b4b5dd69dfed",
   "metadata": {},
   "outputs": [],
   "source": [
    "%%time\n",
    "ds_multi = xr.concat(ds_k, dim='time')\n",
    "ds_multi"
   ]
  },
  {
   "cell_type": "code",
   "execution_count": null,
   "id": "b49fbdd0-3364-4174-ace2-4f42d13d4d0c",
   "metadata": {},
   "outputs": [],
   "source": [
    "t_slice = ds_multi.sel(time=slice('2001-12-01', '2002-03-01'))\n",
    "t_slice"
   ]
  },
  {
   "cell_type": "code",
   "execution_count": null,
   "id": "f5fa1ca7-ae7a-45bf-a0d1-098375419ce0",
   "metadata": {},
   "outputs": [],
   "source": []
  }
 ],
 "metadata": {
  "kernelspec": {
   "display_name": "py39",
   "language": "python",
   "name": "py39"
  },
  "language_info": {
   "codemirror_mode": {
    "name": "ipython",
    "version": 3
   },
   "file_extension": ".py",
   "mimetype": "text/x-python",
   "name": "python",
   "nbconvert_exporter": "python",
   "pygments_lexer": "ipython3",
   "version": "3.9.15"
  }
 },
 "nbformat": 4,
 "nbformat_minor": 5
}
